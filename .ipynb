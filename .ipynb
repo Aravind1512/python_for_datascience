{
 "cells": [
  {
   "cell_type": "code",
   "execution_count": 1,
   "metadata": {},
   "outputs": [],
   "source": [
    "import numpy as np\n",
    "import matplotlib.pyplot as plt\n",
    "import pandas as pd\n",
    "import seaborn as sns\n",
    "import statsmodels as sm\n",
    "\n"
   ]
  },
  {
   "cell_type": "code",
   "execution_count": 71,
   "metadata": {},
   "outputs": [
    {
     "name": "stdout",
     "output_type": "stream",
     "text": [
      "{0: 0.2031942418945194, 1: 0.7332350249684735, 2: 0.2636074637478416, 3: 0.2379206006348874}\n"
     ]
    }
   ],
   "source": [
    "import random as rm\n",
    "data = {i: rm.random() for i in range(4)}\n",
    "print(data)"
   ]
  },
  {
   "cell_type": "code",
   "execution_count": 150,
   "metadata": {},
   "outputs": [
    {
     "data": {
      "text/plain": [
       "'C:\\\\Users\\\\aravi'"
      ]
     },
     "execution_count": 150,
     "metadata": {},
     "output_type": "execute_result"
    }
   ],
   "source": [
    "cd = %pwd"
   ]
  },
  {
   "cell_type": "code",
   "execution_count": 75,
   "metadata": {},
   "outputs": [
    {
     "name": "stdout",
     "output_type": "stream",
     "text": [
      "1\n",
      "2\n",
      "3\n",
      "4\n",
      "5\n",
      "6\n",
      "7\n",
      "8\n"
     ]
    },
    {
     "data": {
      "text/plain": [
       "0"
      ]
     },
     "execution_count": 75,
     "metadata": {},
     "output_type": "execute_result"
    }
   ],
   "source": [
    "list =[[1,2,3,4],[5,6,7,8]]\n",
    "\n",
    "\n",
    "for i in range(0,2):\n",
    "    for j in range(0,4):\n",
    "        print(list[i][j])\n",
    "        \n",
    "list.count(5)"
   ]
  },
  {
   "cell_type": "code",
   "execution_count": 87,
   "metadata": {},
   "outputs": [
    {
     "data": {
      "text/plain": [
       "datetime.date"
      ]
     },
     "execution_count": 87,
     "metadata": {},
     "output_type": "execute_result"
    }
   ],
   "source": [
    "import datetime\n",
    "datetime.date\n",
    "datetime"
   ]
  },
  {
   "cell_type": "code",
   "execution_count": 144,
   "metadata": {},
   "outputs": [
    {
     "name": "stdout",
     "output_type": "stream",
     "text": [
      "100\n",
      "27.9 ns ± 1.14 ns per loop (mean ± std. dev. of 7 runs, 10000000 loops each)\n"
     ]
    }
   ],
   "source": [
    "def loop(i):\n",
    "    while i<100:\n",
    "        if i==5:\n",
    "            break\n",
    "        i+=1\n",
    "    print(i)\n",
    "loop(100)\n",
    "\n",
    "%timeit loop"
   ]
  },
  {
   "cell_type": "code",
   "execution_count": 155,
   "metadata": {},
   "outputs": [
    {
     "data": {
      "text/plain": [
       "[<matplotlib.lines.Line2D at 0x1c1cbc9d6d0>]"
      ]
     },
     "execution_count": 155,
     "metadata": {},
     "output_type": "execute_result"
    },
    {
     "data": {
      "image/png": "[encoded data removed]",
      "text/plain": [
       "<Figure size 432x288 with 1 Axes>"
      ]
     },
     "metadata": {
      "needs_background": "light"
     },
     "output_type": "display_data"
    }
   ],
   "source": [
    "#%matplotlib inline\n",
    "plt.plot(np.random.randn(20).cumsum())"
   ]
  },
  {
   "cell_type": "code",
   "execution_count": 172,
   "metadata": {},
   "outputs": [],
   "source": [
    "def function(list, object):\n",
    "    list.append(object)\n",
    "    return list\n",
    "    \n",
    "data = [1,2,3,4]\n",
    "\n",
    "function(data, 5)\n",
    "\n",
    "a = 5\n",
    "isinstance(a, int)\n",
    "\n",
    "ata = (1,2,3,4)"
   ]
  },
  {
   "cell_type": "code",
   "execution_count": 215,
   "metadata": {},
   "outputs": [
    {
     "name": "stdout",
     "output_type": "stream",
     "text": [
      "K character Aravind string 25 decilmal 0.800000 float\n",
      "25.80 Aravind Kalyanam has worth US $700\n",
      "Hello, My name is Aravind Kalyanam and I'm 25.8 years old and has worth $700.\n"
     ]
    }
   ],
   "source": [
    "print('%c character %s string %d decilmal %f float'%('K','Aravind',25,.8))\n",
    "\n",
    "template = '{0:.2f} {1:s} has worth US ${2:d}'\n",
    "temp = template.format(25.8, 'Aravind Kalyanam', 700)\n",
    "\n",
    "print(temp)\n",
    "\n",
    "name = \"Aravind Kalyanam\"\n",
    "age = 25.8\n",
    "worth = 700\n",
    "\n",
    "print(f\"Hello, My name is {name} and I'm {age} years old and has worth ${worth}.\")\n"
   ]
  },
  {
   "cell_type": "code",
   "execution_count": 227,
   "metadata": {},
   "outputs": [
    {
     "name": "stdout",
     "output_type": "stream",
     "text": [
      "0NoneNone\n",
      "1\n",
      "3\n",
      "3\n",
      "7\n",
      "13\n",
      "15\n",
      "16\n"
     ]
    }
   ],
   "source": [
    "sequence = [1, 2, None, 4, None, 5]\n",
    "total = str(0)\n",
    "for value in sequence:\n",
    "    if value is not None:\n",
    "        continue\n",
    "    total += str(value)\n",
    "print(total)\n",
    "\n",
    "sequence = [1, 2, 0, 4, 6, 2, 1]\n",
    "total_until_5 = 0\n",
    "for value in sequence:\n",
    "    if value == 5:\n",
    "        break\n",
    "    total_until_5 += value\n",
    "    print(total_until_5)"
   ]
  },
  {
   "cell_type": "code",
   "execution_count": 234,
   "metadata": {},
   "outputs": [
    {
     "name": "stdout",
     "output_type": "stream",
     "text": [
      "0 0\n",
      "1 0\n",
      "1 1\n",
      "2 0\n",
      "2 1\n",
      "2 2\n",
      "3 0\n",
      "3 1\n",
      "3 2\n",
      "3 3\n",
      "256\n",
      "128\n",
      "384\n",
      "64\n",
      "448\n",
      "32\n",
      "480\n",
      "16\n",
      "496\n",
      "8\n",
      "504\n",
      "4\n"
     ]
    }
   ],
   "source": [
    "for i in range(4):\n",
    "    for j in range(4):\n",
    "        if j > i:\n",
    "            break\n",
    "        print(i ,j)\n",
    "\n",
    "x = 256\n",
    "total = 0\n",
    "while x > 0:\n",
    "    if total > 500:\n",
    "        break\n",
    "    total += x\n",
    "    print(total)\n",
    "    x = x // 2\n",
    "    print(x)"
   ]
  },
  {
   "cell_type": "code",
   "execution_count": 289,
   "metadata": {},
   "outputs": [
    {
     "name": "stdout",
     "output_type": "stream",
     "text": [
      "('s', 't', 'r', 'i', 'n', 'g')\n",
      "1, 2, 3\n",
      "4, 5, 6\n",
      "7, 8, 9\n"
     ]
    }
   ],
   "source": [
    "x = 'string'\n",
    "tup = tuple(x)\n",
    "print(tup)\n",
    "\n",
    "seq = [(1, 2, 3), (4, 5, 6), (7, 8, 9)]\n",
    "for a, b, c in seq:\n",
    "    print('{0}, {1}, {2}'.format(a, b, c))\n"
   ]
  },
  {
   "cell_type": "code",
   "execution_count": 2,
   "metadata": {},
   "outputs": [
    {
     "name": "stdout",
     "output_type": "stream",
     "text": [
      "(3, 5, 1, 6, 4, 2)\n"
     ]
    },
    {
     "data": {
      "text/plain": [
       "[3, 5, 1, 6, 4, 2]"
      ]
     },
     "execution_count": 2,
     "metadata": {},
     "output_type": "execute_result"
    }
   ],
   "source": [
    "a = 1\n",
    "b = 2\n",
    "c = 3\n",
    "d = 4\n",
    "e = 5\n",
    "f = 6\n",
    "(a,b,c,d,(e,f)) = (c,e,a,f,(d,b))\n",
    "\n",
    "k = (a,b,c,d,e,f)\n",
    "print(k)\n",
    "\n",
    "list(k)\n",
    "\n"
   ]
  },
  {
   "cell_type": "code",
   "execution_count": 295,
   "metadata": {},
   "outputs": [
    {
     "name": "stdout",
     "output_type": "stream",
     "text": [
      "[0, 1, 2, 2, 2, 3, 4, 7]\n"
     ]
    }
   ],
   "source": [
    "import bisect\n",
    "c = [1, 2, 2, 2, 3, 4, 7]\n",
    "bisect.bisect(c, 2)\n",
    "bisect.insort(c,0)\n",
    "print(c)"
   ]
  },
  {
   "cell_type": "code",
   "execution_count": 305,
   "metadata": {},
   "outputs": [
    {
     "name": "stdout",
     "output_type": "stream",
     "text": [
      "[]\n"
     ]
    }
   ],
   "source": [
    "seq = [7, 2, 3, 7, 5, 6, 0, 1]\n",
    "print(seq[0:6:-1])"
   ]
  },
  {
   "cell_type": "code",
   "execution_count": 318,
   "metadata": {},
   "outputs": [
    {
     "name": "stdout",
     "output_type": "stream",
     "text": [
      "a\n",
      "{'a': ['apple']}\n",
      "b\n",
      "{'a': ['apple'], 'b': ['bat']}\n",
      "b\n",
      "{'a': ['apple'], 'b': ['bat', 'bar']}\n",
      "a\n",
      "{'a': ['apple', 'atom'], 'b': ['bat', 'bar']}\n",
      "b\n",
      "{'a': ['apple', 'atom'], 'b': ['bat', 'bar', 'book']}\n",
      "c\n",
      "{'a': ['apple', 'atom'], 'b': ['bat', 'bar', 'book'], 'c': ['c-vit']}\n"
     ]
    }
   ],
   "source": [
    "words = ['apple', 'bat', 'bar', 'atom', 'book','c-vit']\n",
    "by_letter = {}\n",
    "\n",
    "for word in words:\n",
    "    letter = word[0]\n",
    "    print(letter)\n",
    "    by_letter.setdefault(letter, []).append(word)\n",
    "    print(by_letter)\n",
    "    \n"
   ]
  },
  {
   "cell_type": "code",
   "execution_count": 1,
   "metadata": {},
   "outputs": [],
   "source": [
    "from collections import defaultdict\n",
    "\n",
    "words = ['apple', 'bat', 'bar', 'atom', 'book','c-vit']\n",
    "by_letter = {}\n",
    "\n",
    "by_letter = defaultdict(list)\n",
    "for word in words:\n",
    "    by_letter[word[0]].append(word)"
   ]
  },
  {
   "cell_type": "code",
   "execution_count": 20,
   "metadata": {},
   "outputs": [
    {
     "name": "stdout",
     "output_type": "stream",
     "text": [
      "6\n"
     ]
    }
   ],
   "source": [
    "tup =((1,2,3),(4,5,6))\n",
    "k = list(tup)\n",
    "\n",
    "print(k[1][2])"
   ]
  },
  {
   "cell_type": "code",
   "execution_count": null,
   "metadata": {},
   "outputs": [],
   "source": []
  },
  {
   "cell_type": "code",
   "execution_count": null,
   "metadata": {},
   "outputs": [],
   "source": []
  }
 ],
 "metadata": {
  "kernelspec": {
   "display_name": "Python 3",
   "language": "python",
   "name": "python3"
  },
  "language_info": {
   "codemirror_mode": {
    "name": "ipython",
    "version": 3
   },
   "file_extension": ".py",
   "mimetype": "text/x-python",
   "name": "python",
   "nbconvert_exporter": "python",
   "pygments_lexer": "ipython3",
   "version": "3.8.5"
  }
 },
 "nbformat": 4,
 "nbformat_minor": 4
}
